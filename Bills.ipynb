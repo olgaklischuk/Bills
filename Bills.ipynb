
house = [14.4, 437.45, 364.6, 39.19, 131.56, 185.54, 31.07, 500.07, 15.35, 326.02]
internet = True
if internet == True : print(round(sum(house), 2))
else: print(round(sum(house)-house[len(house)-1], 2))
